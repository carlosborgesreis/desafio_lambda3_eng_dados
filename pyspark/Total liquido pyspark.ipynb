{
 "cells": [
  {
   "cell_type": "markdown",
   "metadata": {},
   "source": [
    "## Programa que retorna o valor líquido, dada uma base inicial"
   ]
  },
  {
   "cell_type": "code",
   "execution_count": 1,
   "metadata": {},
   "outputs": [],
   "source": [
    "# import base do pyspark\n",
    "from pyspark import SparkContext\n",
    "from pyspark.sql import SQLContext\n",
    "from pyspark.sql.functions import col, format_number, round as spark_round\n",
    "\n",
    "sc = SparkContext()\n",
    "sqlContext = SQLContext(sc)"
   ]
  },
  {
   "cell_type": "code",
   "execution_count": 2,
   "metadata": {},
   "outputs": [],
   "source": [
    "#constante simulando dados de entrada\n",
    "TRANSACTIONS = [\n",
    "    {'transacao_id': 1, 'total_bruto': 3000,  'desconto_percentual': 6.99},\n",
    "    {'transacao_id': 2, 'total_bruto': 57989, 'desconto_percentual': 1.45},\n",
    "    {'transacao_id': 4, 'total_bruto': 1,     'desconto_percentual': None},\n",
    "    {'transacao_id': 5, 'total_bruto': 34,    'desconto_percentual': 0.0 }\n",
    "]"
   ]
  },
  {
   "cell_type": "markdown",
   "metadata": {},
   "source": [
    "### Transformando a lista de dados em DataFrame e organizando as colunas na ordem convencional\n",
    "\n",
    "A ordem das colunas fica diferente quando transformamos uma lista de `dict` em DataFrame pois `dict` é uma estrutura não-ordenada. Para termos consistência na ordem, basta selecionar as colunas que precisamos com a função _select_ do spark sql. "
   ]
  },
  {
   "cell_type": "code",
   "execution_count": 3,
   "metadata": {},
   "outputs": [],
   "source": [
    "input_transactions = sqlContext.createDataFrame(TRANSACTIONS)\n",
    "ordered_transactions = input_transactions.select('transacao_id', 'total_bruto', 'desconto_percentual')"
   ]
  },
  {
   "cell_type": "code",
   "execution_count": 4,
   "metadata": {},
   "outputs": [
    {
     "name": "stdout",
     "output_type": "stream",
     "text": [
      "+------------+-----------+-------------------+\n",
      "|transacao_id|total_bruto|desconto_percentual|\n",
      "+------------+-----------+-------------------+\n",
      "|           1|       3000|               6.99|\n",
      "|           2|      57989|               1.45|\n",
      "|           4|          1|               null|\n",
      "|           5|         34|                0.0|\n",
      "+------------+-----------+-------------------+\n",
      "\n"
     ]
    }
   ],
   "source": [
    "ordered_transactions.show()"
   ]
  },
  {
   "cell_type": "markdown",
   "metadata": {},
   "source": [
    "### Tratando valores nulos\n",
    "\n",
    "Em um caso com muitas colunas de tipos diferentes com valores nulos e não houvesse necessidade de transformá-los, eu escolheria tratar os nulos na própria expressão , no passo seguinte."
   ]
  },
  {
   "cell_type": "code",
   "execution_count": 5,
   "metadata": {},
   "outputs": [],
   "source": [
    "transactions_notnull = ordered_transactions.fillna(0.0, subset=[\"desconto_percentual\", \"total_bruto\"])"
   ]
  },
  {
   "cell_type": "code",
   "execution_count": 6,
   "metadata": {},
   "outputs": [
    {
     "name": "stdout",
     "output_type": "stream",
     "text": [
      "+------------+-----------+-------------------+\n",
      "|transacao_id|total_bruto|desconto_percentual|\n",
      "+------------+-----------+-------------------+\n",
      "|           1|       3000|               6.99|\n",
      "|           2|      57989|               1.45|\n",
      "|           4|          1|                0.0|\n",
      "|           5|         34|                0.0|\n",
      "+------------+-----------+-------------------+\n",
      "\n"
     ]
    }
   ],
   "source": [
    "transactions_notnull.show()"
   ]
  },
  {
   "cell_type": "markdown",
   "metadata": {},
   "source": [
    "### Cálculo de valor líquido\n",
    "\n",
    "Para o cálculo de valor total líquido, utilizei as funções withColumn para criar uma coluna nova, col para acessar as colunas já existentres no DataFrame e a _round_ do spark para deixar os dados com duas casas decimais. "
   ]
  },
  {
   "cell_type": "code",
   "execution_count": 7,
   "metadata": {},
   "outputs": [],
   "source": [
    "transactions_liquido = transactions_notnull.withColumn(\n",
    "    \"total_liquido\", \n",
    "    spark_round((col(\"total_bruto\") - (col(\"total_bruto\") * (col(\"desconto_percentual\") / 100))), 2)\n",
    ")"
   ]
  },
  {
   "cell_type": "code",
   "execution_count": 8,
   "metadata": {},
   "outputs": [
    {
     "name": "stdout",
     "output_type": "stream",
     "text": [
      "+------------+-----------+-------------------+-------------+\n",
      "|transacao_id|total_bruto|desconto_percentual|total_liquido|\n",
      "+------------+-----------+-------------------+-------------+\n",
      "|           1|       3000|               6.99|       2790.3|\n",
      "|           2|      57989|               1.45|     57148.16|\n",
      "|           4|          1|                0.0|          1.0|\n",
      "|           5|         34|                0.0|         34.0|\n",
      "+------------+-----------+-------------------+-------------+\n",
      "\n"
     ]
    }
   ],
   "source": [
    "transactions_liquido.show()"
   ]
  },
  {
   "cell_type": "markdown",
   "metadata": {},
   "source": [
    "### Agregação e função soma\n",
    "\n",
    "Para retornar o valor total líquido, apenas precisamos utilizar a função de soma para a coluna _total_liquido_, não tendo necessidade de um _group by_"
   ]
  },
  {
   "cell_type": "code",
   "execution_count": 9,
   "metadata": {},
   "outputs": [
    {
     "name": "stdout",
     "output_type": "stream",
     "text": [
      "+-------------+\n",
      "|total_liquido|\n",
      "+-------------+\n",
      "|    59,973.46|\n",
      "+-------------+\n",
      "\n"
     ]
    }
   ],
   "source": [
    "total_liquido = transactions_liquido.agg({'total_liquido':'sum'}).select(format_number(\"sum(total_liquido)\", 2).alias(\"total_liquido\"))\n",
    "total_liquido.show()"
   ]
  }
 ],
 "metadata": {
  "kernelspec": {
   "display_name": "Python 3",
   "language": "python",
   "name": "python3"
  },
  "language_info": {
   "codemirror_mode": {
    "name": "ipython",
    "version": 3
   },
   "file_extension": ".py",
   "mimetype": "text/x-python",
   "name": "python",
   "nbconvert_exporter": "python",
   "pygments_lexer": "ipython3",
   "version": "3.8.5"
  }
 },
 "nbformat": 4,
 "nbformat_minor": 4
}
