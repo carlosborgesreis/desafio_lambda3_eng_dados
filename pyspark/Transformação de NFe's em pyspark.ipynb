{
 "cells": [
  {
   "cell_type": "markdown",
   "metadata": {},
   "source": [
    "## Teste de transformação de dataframe e modelagem"
   ]
  },
  {
   "cell_type": "code",
   "execution_count": 1,
   "metadata": {},
   "outputs": [],
   "source": [
    "# import base do pyspark\n",
    "from pyspark import SparkContext\n",
    "from pyspark.sql import SQLContext\n",
    "from pyspark.sql.functions import col, explode, round as spark_round\n",
    "\n",
    "sc = SparkContext()\n",
    "sqlContext = SQLContext(sc)"
   ]
  },
  {
   "cell_type": "code",
   "execution_count": 2,
   "metadata": {},
   "outputs": [],
   "source": [
    "input_data = sqlContext.read.json('input/data.json', multiLine=True)"
   ]
  },
  {
   "cell_type": "markdown",
   "metadata": {},
   "source": [
    "## Achatando dados aninhados em pyspark\n",
    "\n",
    "Para cada etapa, a fim de visualização e entendimento do processo, usarei as funções _show_, que mostra os dados em forma de tabela e _printSchema_, que mostra a estrutura do schema do dataframe."
   ]
  },
  {
   "cell_type": "code",
   "execution_count": 3,
   "metadata": {},
   "outputs": [
    {
     "name": "stdout",
     "output_type": "stream",
     "text": [
      "+----------------------+--------+-------------------+-----------------------------------------------------------------+-----+---------+\n",
      "|CreateDate            |Discount|EmissionDate       |ItemList                                                         |NFeID|NFeNumber|\n",
      "+----------------------+--------+-------------------+-----------------------------------------------------------------+-----+---------+\n",
      "|2021-05-24T20:21:34.79|0.0     |2021-05-24T00:00:00|[{Rice, 2, 35.55}, {Flour, 5, 11.55}, {Bean, 7, 27.15}]          |1    |501      |\n",
      "|2021-05-24T20:21:34.79|0.0     |2021-05-24T00:00:00|[{Tomate, 10, 12.25}, {Pasta, 5, 7.55}]                          |2    |502      |\n",
      "|2021-05-24T20:21:34.79|0.0     |2021-05-24T00:00:00|[{Beer, 6, 9.0}, {French fries, 2, 10.99}, {Ice cream, 1, 27.15}]|3    |503      |\n",
      "+----------------------+--------+-------------------+-----------------------------------------------------------------+-----+---------+\n",
      "\n"
     ]
    }
   ],
   "source": [
    "input_data.show(truncate=False)"
   ]
  },
  {
   "cell_type": "code",
   "execution_count": 4,
   "metadata": {},
   "outputs": [
    {
     "name": "stdout",
     "output_type": "stream",
     "text": [
      "root\n",
      " |-- CreateDate: string (nullable = true)\n",
      " |-- Discount: double (nullable = true)\n",
      " |-- EmissionDate: string (nullable = true)\n",
      " |-- ItemList: array (nullable = true)\n",
      " |    |-- element: struct (containsNull = true)\n",
      " |    |    |-- ProductName: string (nullable = true)\n",
      " |    |    |-- Quantity: long (nullable = true)\n",
      " |    |    |-- Value: double (nullable = true)\n",
      " |-- NFeID: long (nullable = true)\n",
      " |-- NFeNumber: long (nullable = true)\n",
      "\n"
     ]
    }
   ],
   "source": [
    "input_data.printSchema()"
   ]
  },
  {
   "cell_type": "markdown",
   "metadata": {},
   "source": [
    "### Função _explode_ e como ela funciona\n",
    "\n",
    "Analisando o nosso DataFrame inicial, temos na coluna `ItemList` um array de structs, ou seja, uma lista de objetos. Como podemos lidar com isso? \n",
    "\n",
    "Uma das formas de achatar os dados é utilizar a função _explode_ do spark, separando a lista em linhas diferentes para cada objeto."
   ]
  },
  {
   "cell_type": "code",
   "execution_count": 5,
   "metadata": {},
   "outputs": [],
   "source": [
    "exploded_data = input_data.select(*input_data.columns, explode(\"ItemList\").alias(\"Item\")).drop(\"ItemList\")"
   ]
  },
  {
   "cell_type": "code",
   "execution_count": 6,
   "metadata": {},
   "outputs": [
    {
     "name": "stdout",
     "output_type": "stream",
     "text": [
      "+--------------------+--------+-------------------+-----+---------+--------------------+\n",
      "|          CreateDate|Discount|       EmissionDate|NFeID|NFeNumber|                Item|\n",
      "+--------------------+--------+-------------------+-----+---------+--------------------+\n",
      "|2021-05-24T20:21:...|     0.0|2021-05-24T00:00:00|    1|      501|    {Rice, 2, 35.55}|\n",
      "|2021-05-24T20:21:...|     0.0|2021-05-24T00:00:00|    1|      501|   {Flour, 5, 11.55}|\n",
      "|2021-05-24T20:21:...|     0.0|2021-05-24T00:00:00|    1|      501|    {Bean, 7, 27.15}|\n",
      "|2021-05-24T20:21:...|     0.0|2021-05-24T00:00:00|    2|      502| {Tomate, 10, 12.25}|\n",
      "|2021-05-24T20:21:...|     0.0|2021-05-24T00:00:00|    2|      502|    {Pasta, 5, 7.55}|\n",
      "|2021-05-24T20:21:...|     0.0|2021-05-24T00:00:00|    3|      503|      {Beer, 6, 9.0}|\n",
      "|2021-05-24T20:21:...|     0.0|2021-05-24T00:00:00|    3|      503|{French fries, 2,...|\n",
      "|2021-05-24T20:21:...|     0.0|2021-05-24T00:00:00|    3|      503|{Ice cream, 1, 27...|\n",
      "+--------------------+--------+-------------------+-----+---------+--------------------+\n",
      "\n"
     ]
    }
   ],
   "source": [
    "exploded_data.show()"
   ]
  },
  {
   "cell_type": "code",
   "execution_count": 7,
   "metadata": {},
   "outputs": [
    {
     "name": "stdout",
     "output_type": "stream",
     "text": [
      "root\n",
      " |-- CreateDate: string (nullable = true)\n",
      " |-- Discount: double (nullable = true)\n",
      " |-- EmissionDate: string (nullable = true)\n",
      " |-- NFeID: long (nullable = true)\n",
      " |-- NFeNumber: long (nullable = true)\n",
      " |-- Item: struct (nullable = true)\n",
      " |    |-- ProductName: string (nullable = true)\n",
      " |    |-- Quantity: long (nullable = true)\n",
      " |    |-- Value: double (nullable = true)\n",
      "\n"
     ]
    }
   ],
   "source": [
    "exploded_data.printSchema()"
   ]
  },
  {
   "cell_type": "markdown",
   "metadata": {},
   "source": [
    "### Expandindo a columa Item em colunas de itens separados\n",
    "\n",
    "Após utilizar o _explode_, transformamos a estrutura da nossa lista de itens em apenas um item por linha, mas ainda temos uma hierarquia, pois o Item ainda é um objeto com 3 campos próprios.\n",
    "\n",
    "Como temos apenas uma estrutura com 3 colunas, esta parte é simples de resolver, precisamos apenas criar colunas novas com os conteúdos de cada campo do Item, e excluir a coluna Item no final,\n",
    "\n",
    "Ao fazer a separação, chegamos a um DataFrame _flat_, sem nenhuma estrutura aninhada, e resulta no que seria a saída de um _join_ entre as duas tabelas relacionais da próxima etapa, tendo como _key_ o `NFeID`."
   ]
  },
  {
   "cell_type": "code",
   "execution_count": 8,
   "metadata": {},
   "outputs": [],
   "source": [
    "expanded_columns_data = exploded_data                               \\\n",
    "                .withColumn(\"ProductName\", col(\"Item.ProductName\")) \\\n",
    "                .withColumn(\"Quantity\",    col(\"Item.Quantity\"))    \\\n",
    "                .withColumn(\"Value\",       col(\"Item.Value\"))       \\\n",
    "                .drop(\"Item\")"
   ]
  },
  {
   "cell_type": "markdown",
   "metadata": {},
   "source": [
    "### Outra possibilidade:\n",
    "\n",
    "Se estivéssemos lidando com uma estrutura aninhada muito maior, existem formas menos verbosas de chegar ao resultado esperado. Criando uma função flatten_df, que identifica as colunas de tipo _struct_ e seleciona as subcolunas na estrutura raiz. "
   ]
  },
  {
   "cell_type": "code",
   "execution_count": 9,
   "metadata": {},
   "outputs": [],
   "source": [
    "def flatten_df(nested_df):\n",
    "    flat_cols = [c[0] for c in nested_df.dtypes if c[1][:6] != 'struct']\n",
    "    nested_cols = [c[0] for c in nested_df.dtypes if c[1][:6] == 'struct']\n",
    "\n",
    "    flat_df = nested_df.select(flat_cols +\n",
    "                               [col(nc+'.'+c).alias(c)\n",
    "                                for nc in nested_cols\n",
    "                                for c in nested_df.select(nc+'.*').columns])\n",
    "    return flat_df\n",
    "\n",
    "flattened_data = flatten_df(exploded_data)"
   ]
  },
  {
   "cell_type": "code",
   "execution_count": 10,
   "metadata": {},
   "outputs": [
    {
     "name": "stdout",
     "output_type": "stream",
     "text": [
      "+--------------------+--------+-------------------+-----+---------+------------+--------+-----+\n",
      "|          CreateDate|Discount|       EmissionDate|NFeID|NFeNumber| ProductName|Quantity|Value|\n",
      "+--------------------+--------+-------------------+-----+---------+------------+--------+-----+\n",
      "|2021-05-24T20:21:...|     0.0|2021-05-24T00:00:00|    1|      501|        Rice|       2|35.55|\n",
      "|2021-05-24T20:21:...|     0.0|2021-05-24T00:00:00|    1|      501|       Flour|       5|11.55|\n",
      "|2021-05-24T20:21:...|     0.0|2021-05-24T00:00:00|    1|      501|        Bean|       7|27.15|\n",
      "|2021-05-24T20:21:...|     0.0|2021-05-24T00:00:00|    2|      502|      Tomate|      10|12.25|\n",
      "|2021-05-24T20:21:...|     0.0|2021-05-24T00:00:00|    2|      502|       Pasta|       5| 7.55|\n",
      "|2021-05-24T20:21:...|     0.0|2021-05-24T00:00:00|    3|      503|        Beer|       6|  9.0|\n",
      "|2021-05-24T20:21:...|     0.0|2021-05-24T00:00:00|    3|      503|French fries|       2|10.99|\n",
      "|2021-05-24T20:21:...|     0.0|2021-05-24T00:00:00|    3|      503|   Ice cream|       1|27.15|\n",
      "+--------------------+--------+-------------------+-----+---------+------------+--------+-----+\n",
      "\n"
     ]
    }
   ],
   "source": [
    "flattened_data.show()"
   ]
  },
  {
   "cell_type": "code",
   "execution_count": 11,
   "metadata": {},
   "outputs": [
    {
     "name": "stdout",
     "output_type": "stream",
     "text": [
      "+--------------------+--------+-------------------+-----+---------+------------+--------+-----+\n",
      "|          CreateDate|Discount|       EmissionDate|NFeID|NFeNumber| ProductName|Quantity|Value|\n",
      "+--------------------+--------+-------------------+-----+---------+------------+--------+-----+\n",
      "|2021-05-24T20:21:...|     0.0|2021-05-24T00:00:00|    1|      501|        Rice|       2|35.55|\n",
      "|2021-05-24T20:21:...|     0.0|2021-05-24T00:00:00|    1|      501|       Flour|       5|11.55|\n",
      "|2021-05-24T20:21:...|     0.0|2021-05-24T00:00:00|    1|      501|        Bean|       7|27.15|\n",
      "|2021-05-24T20:21:...|     0.0|2021-05-24T00:00:00|    2|      502|      Tomate|      10|12.25|\n",
      "|2021-05-24T20:21:...|     0.0|2021-05-24T00:00:00|    2|      502|       Pasta|       5| 7.55|\n",
      "|2021-05-24T20:21:...|     0.0|2021-05-24T00:00:00|    3|      503|        Beer|       6|  9.0|\n",
      "|2021-05-24T20:21:...|     0.0|2021-05-24T00:00:00|    3|      503|French fries|       2|10.99|\n",
      "|2021-05-24T20:21:...|     0.0|2021-05-24T00:00:00|    3|      503|   Ice cream|       1|27.15|\n",
      "+--------------------+--------+-------------------+-----+---------+------------+--------+-----+\n",
      "\n"
     ]
    }
   ],
   "source": [
    "expanded_columns_data.show()"
   ]
  },
  {
   "cell_type": "code",
   "execution_count": 12,
   "metadata": {},
   "outputs": [
    {
     "name": "stdout",
     "output_type": "stream",
     "text": [
      "root\n",
      " |-- CreateDate: string (nullable = true)\n",
      " |-- Discount: double (nullable = true)\n",
      " |-- EmissionDate: string (nullable = true)\n",
      " |-- NFeID: long (nullable = true)\n",
      " |-- NFeNumber: long (nullable = true)\n",
      " |-- ProductName: string (nullable = true)\n",
      " |-- Quantity: long (nullable = true)\n",
      " |-- Value: double (nullable = true)\n",
      "\n"
     ]
    }
   ],
   "source": [
    "expanded_columns_data.printSchema()"
   ]
  },
  {
   "cell_type": "markdown",
   "metadata": {},
   "source": [
    "## Separando o DataFrame em dois seguindo o modelo relacional"
   ]
  },
  {
   "cell_type": "code",
   "execution_count": 13,
   "metadata": {},
   "outputs": [],
   "source": [
    "notas = input_data.drop(\"ItemList\")\n",
    "\n",
    "produtos = expanded_columns_data.select(\"NFeID\", \"ProductName\", \"Quantity\", \"Value\")"
   ]
  },
  {
   "cell_type": "code",
   "execution_count": 14,
   "metadata": {},
   "outputs": [
    {
     "name": "stdout",
     "output_type": "stream",
     "text": [
      "+--------------------+--------+-------------------+-----+---------+\n",
      "|          CreateDate|Discount|       EmissionDate|NFeID|NFeNumber|\n",
      "+--------------------+--------+-------------------+-----+---------+\n",
      "|2021-05-24T20:21:...|     0.0|2021-05-24T00:00:00|    1|      501|\n",
      "|2021-05-24T20:21:...|     0.0|2021-05-24T00:00:00|    2|      502|\n",
      "|2021-05-24T20:21:...|     0.0|2021-05-24T00:00:00|    3|      503|\n",
      "+--------------------+--------+-------------------+-----+---------+\n",
      "\n"
     ]
    }
   ],
   "source": [
    "notas.show()"
   ]
  },
  {
   "cell_type": "code",
   "execution_count": 15,
   "metadata": {},
   "outputs": [
    {
     "name": "stdout",
     "output_type": "stream",
     "text": [
      "+-----+------------+--------+-----+\n",
      "|NFeID| ProductName|Quantity|Value|\n",
      "+-----+------------+--------+-----+\n",
      "|    1|        Rice|       2|35.55|\n",
      "|    1|       Flour|       5|11.55|\n",
      "|    1|        Bean|       7|27.15|\n",
      "|    2|      Tomate|      10|12.25|\n",
      "|    2|       Pasta|       5| 7.55|\n",
      "|    3|        Beer|       6|  9.0|\n",
      "|    3|French fries|       2|10.99|\n",
      "|    3|   Ice cream|       1|27.15|\n",
      "+-----+------------+--------+-----+\n",
      "\n"
     ]
    }
   ],
   "source": [
    "produtos.show()"
   ]
  }
 ],
 "metadata": {
  "kernelspec": {
   "display_name": "Python 3",
   "language": "python",
   "name": "python3"
  },
  "language_info": {
   "codemirror_mode": {
    "name": "ipython",
    "version": 3
   },
   "file_extension": ".py",
   "mimetype": "text/x-python",
   "name": "python",
   "nbconvert_exporter": "python",
   "pygments_lexer": "ipython3",
   "version": "3.8.5"
  }
 },
 "nbformat": 4,
 "nbformat_minor": 4
}
